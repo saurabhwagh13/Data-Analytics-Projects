{
 "cells": [
  {
   "cell_type": "code",
   "execution_count": 9,
   "id": "d84ba545",
   "metadata": {},
   "outputs": [],
   "source": [
    "import pandas as pd"
   ]
  },
  {
   "cell_type": "code",
   "execution_count": 13,
   "id": "202d5f39",
   "metadata": {},
   "outputs": [],
   "source": [
    "df = pd.read_excel(\"E:saurabh.xlsx\")"
   ]
  },
  {
   "cell_type": "code",
   "execution_count": 14,
   "id": "9ed9de8a",
   "metadata": {},
   "outputs": [
    {
     "data": {
      "text/html": [
       "<div>\n",
       "<style scoped>\n",
       "    .dataframe tbody tr th:only-of-type {\n",
       "        vertical-align: middle;\n",
       "    }\n",
       "\n",
       "    .dataframe tbody tr th {\n",
       "        vertical-align: top;\n",
       "    }\n",
       "\n",
       "    .dataframe thead th {\n",
       "        text-align: right;\n",
       "    }\n",
       "</style>\n",
       "<table border=\"1\" class=\"dataframe\">\n",
       "  <thead>\n",
       "    <tr style=\"text-align: right;\">\n",
       "      <th></th>\n",
       "      <th>Date</th>\n",
       "      <th>Narration</th>\n",
       "      <th>Value Dt</th>\n",
       "      <th>Withdrawal Amt.</th>\n",
       "      <th>Deposit Amt.</th>\n",
       "    </tr>\n",
       "  </thead>\n",
       "  <tbody>\n",
       "    <tr>\n",
       "      <th>0</th>\n",
       "      <td>01/04/21</td>\n",
       "      <td>UPI-K RAJESH-RAJESHDPMINDIA@OKICICI-ICIC000000...</td>\n",
       "      <td>01/04/21</td>\n",
       "      <td>1.00</td>\n",
       "      <td>NaN</td>\n",
       "    </tr>\n",
       "    <tr>\n",
       "      <th>1</th>\n",
       "      <td>01/04/21</td>\n",
       "      <td>NEFT DR-PUNB0668200-ROHAN-NETBANK, MUM-N091211...</td>\n",
       "      <td>01/04/21</td>\n",
       "      <td>17816.00</td>\n",
       "      <td>NaN</td>\n",
       "    </tr>\n",
       "    <tr>\n",
       "      <th>2</th>\n",
       "      <td>01/04/21</td>\n",
       "      <td>UPI-K RAJESH-RAJESHDPMINDIA@OKICICI-ICIC000000...</td>\n",
       "      <td>01/04/21</td>\n",
       "      <td>24999.00</td>\n",
       "      <td>NaN</td>\n",
       "    </tr>\n",
       "    <tr>\n",
       "      <th>3</th>\n",
       "      <td>01/04/21</td>\n",
       "      <td>UPI-ZOMATO-ZOMATO-ORDER@PAYTM-PYTM0123456-1091...</td>\n",
       "      <td>01/04/21</td>\n",
       "      <td>111.18</td>\n",
       "      <td>NaN</td>\n",
       "    </tr>\n",
       "    <tr>\n",
       "      <th>4</th>\n",
       "      <td>02/04/21</td>\n",
       "      <td>UPI-MAHENDRAN K M-SRIMURUGANSUPERMARKET1969@OK...</td>\n",
       "      <td>02/04/21</td>\n",
       "      <td>40.00</td>\n",
       "      <td>NaN</td>\n",
       "    </tr>\n",
       "  </tbody>\n",
       "</table>\n",
       "</div>"
      ],
      "text/plain": [
       "       Date                                          Narration  Value Dt  \\\n",
       "0  01/04/21  UPI-K RAJESH-RAJESHDPMINDIA@OKICICI-ICIC000000...  01/04/21   \n",
       "1  01/04/21  NEFT DR-PUNB0668200-ROHAN-NETBANK, MUM-N091211...  01/04/21   \n",
       "2  01/04/21  UPI-K RAJESH-RAJESHDPMINDIA@OKICICI-ICIC000000...  01/04/21   \n",
       "3  01/04/21  UPI-ZOMATO-ZOMATO-ORDER@PAYTM-PYTM0123456-1091...  01/04/21   \n",
       "4  02/04/21  UPI-MAHENDRAN K M-SRIMURUGANSUPERMARKET1969@OK...  02/04/21   \n",
       "\n",
       "   Withdrawal Amt.  Deposit Amt.  \n",
       "0             1.00           NaN  \n",
       "1         17816.00           NaN  \n",
       "2         24999.00           NaN  \n",
       "3           111.18           NaN  \n",
       "4            40.00           NaN  "
      ]
     },
     "execution_count": 14,
     "metadata": {},
     "output_type": "execute_result"
    }
   ],
   "source": [
    "df.head()"
   ]
  },
  {
   "cell_type": "code",
   "execution_count": 22,
   "id": "261a5249",
   "metadata": {},
   "outputs": [
    {
     "data": {
      "text/plain": [
       "Date                 0\n",
       "Narration            0\n",
       "Value Dt             0\n",
       "Withdrawal Amt.     19\n",
       "Deposit Amt.       206\n",
       "dtype: int64"
      ]
     },
     "execution_count": 22,
     "metadata": {},
     "output_type": "execute_result"
    }
   ],
   "source": [
    "df.isnull().sum()"
   ]
  },
  {
   "cell_type": "code",
   "execution_count": 27,
   "id": "d09e1649",
   "metadata": {},
   "outputs": [],
   "source": [
    "df1=df.fillna(0)"
   ]
  },
  {
   "cell_type": "code",
   "execution_count": 28,
   "id": "e7d1355f",
   "metadata": {},
   "outputs": [
    {
     "data": {
      "text/html": [
       "<div>\n",
       "<style scoped>\n",
       "    .dataframe tbody tr th:only-of-type {\n",
       "        vertical-align: middle;\n",
       "    }\n",
       "\n",
       "    .dataframe tbody tr th {\n",
       "        vertical-align: top;\n",
       "    }\n",
       "\n",
       "    .dataframe thead th {\n",
       "        text-align: right;\n",
       "    }\n",
       "</style>\n",
       "<table border=\"1\" class=\"dataframe\">\n",
       "  <thead>\n",
       "    <tr style=\"text-align: right;\">\n",
       "      <th></th>\n",
       "      <th>Date</th>\n",
       "      <th>Narration</th>\n",
       "      <th>Value Dt</th>\n",
       "      <th>Withdrawal Amt.</th>\n",
       "      <th>Deposit Amt.</th>\n",
       "    </tr>\n",
       "  </thead>\n",
       "  <tbody>\n",
       "    <tr>\n",
       "      <th>0</th>\n",
       "      <td>01/04/21</td>\n",
       "      <td>UPI-K RAJESH-RAJESHDPMINDIA@OKICICI-ICIC000000...</td>\n",
       "      <td>01/04/21</td>\n",
       "      <td>1.00</td>\n",
       "      <td>0.0</td>\n",
       "    </tr>\n",
       "    <tr>\n",
       "      <th>1</th>\n",
       "      <td>01/04/21</td>\n",
       "      <td>NEFT DR-PUNB0668200-ROHAN-NETBANK, MUM-N091211...</td>\n",
       "      <td>01/04/21</td>\n",
       "      <td>17816.00</td>\n",
       "      <td>0.0</td>\n",
       "    </tr>\n",
       "    <tr>\n",
       "      <th>2</th>\n",
       "      <td>01/04/21</td>\n",
       "      <td>UPI-K RAJESH-RAJESHDPMINDIA@OKICICI-ICIC000000...</td>\n",
       "      <td>01/04/21</td>\n",
       "      <td>24999.00</td>\n",
       "      <td>0.0</td>\n",
       "    </tr>\n",
       "    <tr>\n",
       "      <th>3</th>\n",
       "      <td>01/04/21</td>\n",
       "      <td>UPI-ZOMATO-ZOMATO-ORDER@PAYTM-PYTM0123456-1091...</td>\n",
       "      <td>01/04/21</td>\n",
       "      <td>111.18</td>\n",
       "      <td>0.0</td>\n",
       "    </tr>\n",
       "    <tr>\n",
       "      <th>4</th>\n",
       "      <td>02/04/21</td>\n",
       "      <td>UPI-MAHENDRAN K M-SRIMURUGANSUPERMARKET1969@OK...</td>\n",
       "      <td>02/04/21</td>\n",
       "      <td>40.00</td>\n",
       "      <td>0.0</td>\n",
       "    </tr>\n",
       "  </tbody>\n",
       "</table>\n",
       "</div>"
      ],
      "text/plain": [
       "       Date                                          Narration  Value Dt  \\\n",
       "0  01/04/21  UPI-K RAJESH-RAJESHDPMINDIA@OKICICI-ICIC000000...  01/04/21   \n",
       "1  01/04/21  NEFT DR-PUNB0668200-ROHAN-NETBANK, MUM-N091211...  01/04/21   \n",
       "2  01/04/21  UPI-K RAJESH-RAJESHDPMINDIA@OKICICI-ICIC000000...  01/04/21   \n",
       "3  01/04/21  UPI-ZOMATO-ZOMATO-ORDER@PAYTM-PYTM0123456-1091...  01/04/21   \n",
       "4  02/04/21  UPI-MAHENDRAN K M-SRIMURUGANSUPERMARKET1969@OK...  02/04/21   \n",
       "\n",
       "   Withdrawal Amt.  Deposit Amt.  \n",
       "0             1.00           0.0  \n",
       "1         17816.00           0.0  \n",
       "2         24999.00           0.0  \n",
       "3           111.18           0.0  \n",
       "4            40.00           0.0  "
      ]
     },
     "execution_count": 28,
     "metadata": {},
     "output_type": "execute_result"
    }
   ],
   "source": [
    "df1.head()"
   ]
  },
  {
   "cell_type": "code",
   "execution_count": 29,
   "id": "95907e6b",
   "metadata": {},
   "outputs": [
    {
     "data": {
      "text/plain": [
       "Date               0\n",
       "Narration          0\n",
       "Value Dt           0\n",
       "Withdrawal Amt.    0\n",
       "Deposit Amt.       0\n",
       "dtype: int64"
      ]
     },
     "execution_count": 29,
     "metadata": {},
     "output_type": "execute_result"
    }
   ],
   "source": [
    "df1.isnull().sum()"
   ]
  },
  {
   "cell_type": "code",
   "execution_count": 59,
   "id": "bdc7cda8",
   "metadata": {},
   "outputs": [],
   "source": [
    "from sklearn.preprocessing import LabelEncoder\n",
    "lb=LabelEncoder()"
   ]
  },
  {
   "cell_type": "code",
   "execution_count": 60,
   "id": "74d5d704",
   "metadata": {},
   "outputs": [],
   "source": [
    "df1['NNarration']=lb.fit_transform(df1['Narration'])"
   ]
  },
  {
   "cell_type": "code",
   "execution_count": 61,
   "id": "78a688cc",
   "metadata": {},
   "outputs": [
    {
     "data": {
      "text/html": [
       "<div>\n",
       "<style scoped>\n",
       "    .dataframe tbody tr th:only-of-type {\n",
       "        vertical-align: middle;\n",
       "    }\n",
       "\n",
       "    .dataframe tbody tr th {\n",
       "        vertical-align: top;\n",
       "    }\n",
       "\n",
       "    .dataframe thead th {\n",
       "        text-align: right;\n",
       "    }\n",
       "</style>\n",
       "<table border=\"1\" class=\"dataframe\">\n",
       "  <thead>\n",
       "    <tr style=\"text-align: right;\">\n",
       "      <th></th>\n",
       "      <th>Date</th>\n",
       "      <th>Narration</th>\n",
       "      <th>Value Dt</th>\n",
       "      <th>Withdrawal Amt.</th>\n",
       "      <th>Deposit Amt.</th>\n",
       "      <th>NNarration</th>\n",
       "    </tr>\n",
       "  </thead>\n",
       "  <tbody>\n",
       "    <tr>\n",
       "      <th>0</th>\n",
       "      <td>01/04/21</td>\n",
       "      <td>UPI-K RAJESH-RAJESHDPMINDIA@OKICICI-ICIC000000...</td>\n",
       "      <td>01/04/21</td>\n",
       "      <td>1.00</td>\n",
       "      <td>0.0</td>\n",
       "      <td>50</td>\n",
       "    </tr>\n",
       "    <tr>\n",
       "      <th>1</th>\n",
       "      <td>01/04/21</td>\n",
       "      <td>NEFT DR-PUNB0668200-ROHAN-NETBANK, MUM-N091211...</td>\n",
       "      <td>01/04/21</td>\n",
       "      <td>17816.00</td>\n",
       "      <td>0.0</td>\n",
       "      <td>10</td>\n",
       "    </tr>\n",
       "    <tr>\n",
       "      <th>2</th>\n",
       "      <td>01/04/21</td>\n",
       "      <td>UPI-K RAJESH-RAJESHDPMINDIA@OKICICI-ICIC000000...</td>\n",
       "      <td>01/04/21</td>\n",
       "      <td>24999.00</td>\n",
       "      <td>0.0</td>\n",
       "      <td>51</td>\n",
       "    </tr>\n",
       "    <tr>\n",
       "      <th>3</th>\n",
       "      <td>01/04/21</td>\n",
       "      <td>UPI-ZOMATO-ZOMATO-ORDER@PAYTM-PYTM0123456-1091...</td>\n",
       "      <td>01/04/21</td>\n",
       "      <td>111.18</td>\n",
       "      <td>0.0</td>\n",
       "      <td>173</td>\n",
       "    </tr>\n",
       "    <tr>\n",
       "      <th>4</th>\n",
       "      <td>02/04/21</td>\n",
       "      <td>UPI-MAHENDRAN K M-SRIMURUGANSUPERMARKET1969@OK...</td>\n",
       "      <td>02/04/21</td>\n",
       "      <td>40.00</td>\n",
       "      <td>0.0</td>\n",
       "      <td>57</td>\n",
       "    </tr>\n",
       "  </tbody>\n",
       "</table>\n",
       "</div>"
      ],
      "text/plain": [
       "       Date                                          Narration  Value Dt  \\\n",
       "0  01/04/21  UPI-K RAJESH-RAJESHDPMINDIA@OKICICI-ICIC000000...  01/04/21   \n",
       "1  01/04/21  NEFT DR-PUNB0668200-ROHAN-NETBANK, MUM-N091211...  01/04/21   \n",
       "2  01/04/21  UPI-K RAJESH-RAJESHDPMINDIA@OKICICI-ICIC000000...  01/04/21   \n",
       "3  01/04/21  UPI-ZOMATO-ZOMATO-ORDER@PAYTM-PYTM0123456-1091...  01/04/21   \n",
       "4  02/04/21  UPI-MAHENDRAN K M-SRIMURUGANSUPERMARKET1969@OK...  02/04/21   \n",
       "\n",
       "   Withdrawal Amt.  Deposit Amt.  NNarration  \n",
       "0             1.00           0.0          50  \n",
       "1         17816.00           0.0          10  \n",
       "2         24999.00           0.0          51  \n",
       "3           111.18           0.0         173  \n",
       "4            40.00           0.0          57  "
      ]
     },
     "execution_count": 61,
     "metadata": {},
     "output_type": "execute_result"
    }
   ],
   "source": [
    "df1.head()"
   ]
  },
  {
   "cell_type": "markdown",
   "id": "4daaffdc",
   "metadata": {},
   "source": [
    "# Debit: Create atleast 5 bucket: You may select any of these - Online food, Online Shopping, Broker (Zerodha transactions),  Subscriptions & Recharges, Utility, online credit aggregator, fund transfers, cash withdrawal, and Misc. \t\t\t\t\t\t\t\t\t\t\t\n"
   ]
  },
  {
   "cell_type": "code",
   "execution_count": 62,
   "id": "04cb57bf",
   "metadata": {},
   "outputs": [],
   "source": [
    "x=df1[[\"Withdrawal Amt.\",\"NNarration\"]]"
   ]
  },
  {
   "cell_type": "code",
   "execution_count": 63,
   "id": "6d856df7",
   "metadata": {},
   "outputs": [],
   "source": [
    "from sklearn.cluster import KMeans"
   ]
  },
  {
   "cell_type": "code",
   "execution_count": 64,
   "id": "c445f72d",
   "metadata": {},
   "outputs": [],
   "source": [
    "km = KMeans(n_clusters=5)"
   ]
  },
  {
   "cell_type": "code",
   "execution_count": 65,
   "id": "c044a3be",
   "metadata": {},
   "outputs": [],
   "source": [
    "kfit = km.fit(x)"
   ]
  },
  {
   "cell_type": "code",
   "execution_count": 66,
   "id": "54560c10",
   "metadata": {},
   "outputs": [
    {
     "data": {
      "text/plain": [
       "array([2, 0, 0, 2, 2, 2, 2, 2, 2, 2, 2, 2, 4, 2, 2, 2, 4, 2, 2, 2, 2, 4,\n",
       "       2, 2, 2, 2, 2, 2, 2, 2, 2, 2, 2, 2, 2, 2, 2, 2, 2, 2, 2, 4, 2, 2,\n",
       "       2, 2, 2, 2, 2, 2, 2, 2, 2, 2, 0, 2, 2, 2, 2, 2, 2, 2, 2, 2, 2, 0,\n",
       "       2, 4, 2, 2, 2, 2, 0, 2, 2, 2, 2, 2, 2, 2, 2, 2, 2, 2, 3, 2, 2, 2,\n",
       "       2, 2, 2, 0, 2, 2, 2, 2, 2, 2, 2, 2, 4, 2, 2, 2, 2, 0, 2, 2, 2, 2,\n",
       "       2, 2, 2, 2, 2, 2, 2, 2, 2, 2, 4, 2, 0, 2, 2, 2, 2, 2, 2, 2, 2, 2,\n",
       "       2, 2, 2, 2, 4, 4, 2, 2, 2, 2, 2, 2, 2, 2, 2, 2, 2, 2, 2, 2, 2, 2,\n",
       "       2, 2, 2, 2, 2, 1, 2, 2, 2, 2, 2, 2, 2, 2, 2, 2, 2, 4, 2, 2, 2, 2,\n",
       "       2, 2, 2, 2, 2, 2, 2, 2, 2, 2, 2, 2, 2, 2, 2, 2, 2, 2, 2, 2, 2, 2,\n",
       "       2, 2, 2, 2, 2, 2, 2, 2, 2, 2, 2, 2, 2, 2, 2, 2, 2, 2, 2, 2, 2, 2,\n",
       "       2, 2, 1, 3, 2])"
      ]
     },
     "execution_count": 66,
     "metadata": {},
     "output_type": "execute_result"
    }
   ],
   "source": [
    "k_pred =  kfit.predict(x)\n",
    "k_pred"
   ]
  },
  {
   "cell_type": "code",
   "execution_count": 67,
   "id": "ab2d94e7",
   "metadata": {},
   "outputs": [],
   "source": [
    "import scipy.cluster.hierarchy as sch\n",
    "import matplotlib.pyplot as plt\n",
    "import seaborn as sns\n",
    "from scipy.cluster.hierarchy import dendrogram, linkage"
   ]
  },
  {
   "cell_type": "code",
   "execution_count": 68,
   "id": "6d4ae556",
   "metadata": {},
   "outputs": [
    {
     "data": {
      "image/png": "[encoded data removed]",
      "text/plain": [
       "<Figure size 1080x864 with 1 Axes>"
      ]
     },
     "metadata": {
      "needs_background": "light"
     },
     "output_type": "display_data"
    }
   ],
   "source": [
    "plt.figure(figsize=(15,12))\n",
    "wardlink = linkage(x, method = 'ward')\n",
    "dendogram = dendrogram(wardlink,\n",
    "                 truncate_mode='lastp',\n",
    "                 p = 10,\n",
    "                 )"
   ]
  },
  {
   "cell_type": "markdown",
   "id": "a46173e7",
   "metadata": {},
   "source": [
    "# Credit: Create another bucket for credits \n"
   ]
  },
  {
   "cell_type": "code",
   "execution_count": 70,
   "id": "956a8aa7",
   "metadata": {},
   "outputs": [],
   "source": [
    "y=df1[[\"Deposit Amt.\",\"NNarration\"]]"
   ]
  },
  {
   "cell_type": "code",
   "execution_count": 71,
   "id": "cc702697",
   "metadata": {},
   "outputs": [],
   "source": [
    "km = KMeans(n_clusters=5)"
   ]
  },
  {
   "cell_type": "code",
   "execution_count": 72,
   "id": "c4d91e75",
   "metadata": {},
   "outputs": [
    {
     "data": {
      "text/plain": [
       "array([0, 0, 0, 0, 0, 0, 0, 0, 0, 0, 0, 0, 0, 0, 0, 0, 0, 0, 0, 0, 0, 0,\n",
       "       0, 0, 0, 0, 0, 0, 0, 0, 0, 0, 0, 0, 0, 0, 0, 0, 0, 0, 0, 0, 0, 0,\n",
       "       0, 0, 0, 0, 0, 0, 0, 0, 0, 0, 0, 0, 0, 0, 0, 0, 0, 0, 0, 0, 0, 0,\n",
       "       0, 0, 0, 0, 0, 0, 0, 0, 0, 0, 0, 0, 0, 0, 0, 0, 0, 0, 0, 0, 0, 0,\n",
       "       0, 0, 0, 0, 0, 0, 0, 0, 0, 0, 0, 0, 0, 0, 0, 0, 0, 0, 0, 0, 0, 0,\n",
       "       0, 0, 0, 0, 0, 0, 0, 0, 0, 0, 0, 3, 0, 0, 0, 0, 0, 0, 0, 0, 0, 0,\n",
       "       0, 0, 0, 0, 0, 0, 0, 0, 0, 0, 0, 0, 0, 0, 0, 0, 0, 0, 0, 1, 0, 0,\n",
       "       0, 0, 0, 0, 0, 0, 0, 0, 0, 0, 0, 0, 0, 0, 0, 0, 0, 0, 0, 0, 0, 0,\n",
       "       0, 0, 0, 0, 0, 0, 0, 0, 0, 0, 0, 0, 0, 0, 0, 0, 0, 0, 0, 0, 0, 0,\n",
       "       0, 0, 0, 0, 0, 0, 0, 0, 0, 0, 0, 4, 0, 0, 0, 0, 0, 0, 2, 0, 0, 0,\n",
       "       0, 0, 0, 0, 0])"
      ]
     },
     "execution_count": 72,
     "metadata": {},
     "output_type": "execute_result"
    }
   ],
   "source": [
    "kfit = km.fit(y)\n",
    "k_pred =  kfit.predict(y)\n",
    "k_pred"
   ]
  },
  {
   "cell_type": "code",
   "execution_count": 74,
   "id": "901077e2",
   "metadata": {},
   "outputs": [
    {
     "data": {
      "image/png": "[encoded data removed]",
      "text/plain": [
       "<Figure size 1080x864 with 1 Axes>"
      ]
     },
     "metadata": {
      "needs_background": "light"
     },
     "output_type": "display_data"
    }
   ],
   "source": [
    "plt.figure(figsize=(15,12))\n",
    "dendogram = sch.dendrogram(sch.linkage(y,method ='complete'))"
   ]
  },
  {
   "cell_type": "code",
   "execution_count": null,
   "id": "a0d6585f",
   "metadata": {},
   "outputs": [],
   "source": []
  }
 ],
 "metadata": {
  "kernelspec": {
   "display_name": "Python 3",
   "language": "python",
   "name": "python3"
  },
  "language_info": {
   "codemirror_mode": {
    "name": "ipython",
    "version": 3
   },
   "file_extension": ".py",
   "mimetype": "text/x-python",
   "name": "python",
   "nbconvert_exporter": "python",
   "pygments_lexer": "ipython3",
   "version": "3.8.8"
  }
 },
 "nbformat": 4,
 "nbformat_minor": 5
}
